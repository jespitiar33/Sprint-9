{
 "cells": [
  {
   "cell_type": "markdown",
   "metadata": {},
   "source": [
    "Hola **Juan**!\n",
    "\n",
    "Soy **Patricio Requena** 👋. Es un placer ser el revisor de tu proyecto el día de hoy!\n",
    "\n",
    "Revisaré tu proyecto detenidamente con el objetivo de ayudarte a mejorar y perfeccionar tus habilidades. Durante mi revisión, identificaré áreas donde puedas hacer mejoras en tu código, señalando específicamente qué y cómo podrías ajustar para optimizar el rendimiento y la claridad de tu proyecto. Además, es importante para mí destacar los aspectos que has manejado excepcionalmente bien. Reconocer tus fortalezas te ayudará a entender qué técnicas y métodos están funcionando a tu favor y cómo puedes aplicarlos en futuras tareas. \n",
    "\n",
    "_**Recuerda que al final de este notebook encontrarás un comentario general de mi parte**_, empecemos!\n",
    "\n",
    "Encontrarás mis comentarios dentro de cajas verdes, amarillas o rojas, ⚠️ **por favor, no muevas, modifiques o borres mis comentarios** ⚠️:\n",
    "\n",
    "\n",
    "<div class=\"alert alert-block alert-success\">\n",
    "<b>Comentario del revisor</b> <a class=“tocSkip”></a>\n",
    "Si todo está perfecto.\n",
    "</div>\n",
    "\n",
    "<div class=\"alert alert-block alert-warning\">\n",
    "<b>Comentario del revisor</b> <a class=“tocSkip”></a>\n",
    "Si tu código está bien pero se puede mejorar o hay algún detalle que le hace falta.\n",
    "</div>\n",
    "\n",
    "<div class=\"alert alert-block alert-danger\">\n",
    "<b>Comentario del revisor</b> <a class=“tocSkip”></a>\n",
    "Si de pronto hace falta algo o existe algún problema con tu código o conclusiones.\n",
    "</div>\n",
    "\n",
    "Puedes responderme de esta forma:\n",
    "<div class=\"alert alert-block alert-info\">\n",
    "<b>Respuesta del estudiante</b> <a class=“tocSkip”></a> \n",
    "Disculpa no se porque no se subió mi cuaderno correctamente, lo bueno que lo había guardado en mi computadora, ahora lo vuelvo a subir.\n",
    "</div>"
   ]
  },
  {
   "cell_type": "markdown",
   "metadata": {},
   "source": [
    "<div class=\"alert alert-block alert-danger\">\n",
    "<b>Comentario del revisor (1ra Iteración)</b> <a class=\"tocSkip\"></a>\n",
    "    \n",
    "Hola Juan, para este sprint debes usar otros dataset. Por favor, revisa la descripción del proyecto para que uses el dataset correcto y además que sigas los pasos adecuados.\n",
    "    \n",
    "   \n",
    "Ahí encuentras cada punto a resolver y cómo será evaluado el proyecto, si tienes dificultad para resolverlo puedes usar los canales de ayuda o contactar a tu CM para que te ayuden agendando una tutoría si es necesario."
   ]
  },
  {
   "cell_type": "markdown",
   "metadata": {},
   "source": [
    "# Sprint 9"
   ]
  },
  {
   "cell_type": "markdown",
   "metadata": {},
   "source": [
    "## Paso 1. Carga y revisión de datos para el análisis"
   ]
  },
  {
   "cell_type": "code",
   "execution_count": 4,
   "metadata": {},
   "outputs": [
    {
     "name": "stdout",
     "output_type": "stream",
     "text": [
      "    Device               End Ts  Source Id             Start Ts  \\\n",
      "0    touch  2017-12-20 17:38:00          4  2017-12-20 17:20:00   \n",
      "1  desktop  2018-02-19 17:21:00          2  2018-02-19 16:53:00   \n",
      "2    touch  2017-07-01 01:54:00          5  2017-07-01 01:54:00   \n",
      "3  desktop  2018-05-20 11:23:00          9  2018-05-20 10:59:00   \n",
      "4  desktop  2017-12-27 14:06:00          3  2017-12-27 14:06:00   \n",
      "\n",
      "                    Uid  \n",
      "0  16879256277535980062  \n",
      "1    104060357244891740  \n",
      "2   7459035603376831527  \n",
      "3  16174680259334210214  \n",
      "4   9969694820036681168  \n",
      "\n",
      "<class 'pandas.core.frame.DataFrame'>\n",
      "RangeIndex: 359400 entries, 0 to 359399\n",
      "Data columns (total 5 columns):\n",
      " #   Column     Non-Null Count   Dtype \n",
      "---  ------     --------------   ----- \n",
      " 0   Device     359400 non-null  object\n",
      " 1   End Ts     359400 non-null  object\n",
      " 2   Source Id  359400 non-null  int64 \n",
      " 3   Start Ts   359400 non-null  object\n",
      " 4   Uid        359400 non-null  uint64\n",
      "dtypes: int64(1), object(3), uint64(1)\n",
      "memory usage: 13.7+ MB\n",
      "None\n",
      "\n",
      "   source_id          dt  costs\n",
      "0          1  2017-06-01  75.20\n",
      "1          1  2017-06-02  62.25\n",
      "2          1  2017-06-03  36.53\n",
      "3          1  2017-06-04  55.00\n",
      "4          1  2017-06-05  57.08\n",
      "\n",
      "<class 'pandas.core.frame.DataFrame'>\n",
      "RangeIndex: 2542 entries, 0 to 2541\n",
      "Data columns (total 3 columns):\n",
      " #   Column     Non-Null Count  Dtype  \n",
      "---  ------     --------------  -----  \n",
      " 0   source_id  2542 non-null   int64  \n",
      " 1   dt         2542 non-null   object \n",
      " 2   costs      2542 non-null   float64\n",
      "dtypes: float64(1), int64(1), object(1)\n",
      "memory usage: 59.7+ KB\n",
      "None\n",
      "\n",
      "                Buy Ts  Revenue                   Uid\n",
      "0  2017-06-01 00:10:00    17.00  10329302124590727494\n",
      "1  2017-06-01 00:25:00     0.55  11627257723692907447\n",
      "2  2017-06-01 00:27:00     0.37  17903680561304213844\n",
      "3  2017-06-01 00:29:00     0.55  16109239769442553005\n",
      "4  2017-06-01 07:58:00     0.37  14200605875248379450\n",
      "\n",
      "<class 'pandas.core.frame.DataFrame'>\n",
      "RangeIndex: 50415 entries, 0 to 50414\n",
      "Data columns (total 3 columns):\n",
      " #   Column   Non-Null Count  Dtype  \n",
      "---  ------   --------------  -----  \n",
      " 0   Buy Ts   50415 non-null  object \n",
      " 1   Revenue  50415 non-null  float64\n",
      " 2   Uid      50415 non-null  uint64 \n",
      "dtypes: float64(1), object(1), uint64(1)\n",
      "memory usage: 1.2+ MB\n",
      "None\n"
     ]
    }
   ],
   "source": [
    "import pandas as pd\n",
    "\n",
    "\n",
    "visits = pd.read_csv('/datasets/visits_log_us.csv')\n",
    "print(visits.head(5))\n",
    "print()\n",
    "print(visits.info())\n",
    "print()\n",
    "costs = pd.read_csv('/datasets/costs_us.csv')\n",
    "print(costs.head(5))\n",
    "print()\n",
    "print(costs.info())\n",
    "print()\n",
    "orders = pd.read_csv('/datasets/orders_log_us.csv')\n",
    "print(orders.head(5))\n",
    "print()\n",
    "print(orders.info())"
   ]
  },
  {
   "cell_type": "markdown",
   "metadata": {},
   "source": [
    "<div class=\"alert alert-block alert-success\">\n",
    "<b>Comentario del revisor (2da Iteracion)</b> <a class=“tocSkip”></a>\n",
    "\n",
    "Buen trabajo con la carga de datos!\n",
    "</div>"
   ]
  },
  {
   "cell_type": "code",
   "execution_count": 6,
   "metadata": {},
   "outputs": [],
   "source": [
    "# Optimiza los datos para el análisis.\n",
    "# Cambiamos minúsculas los titulos de las columnas.\n",
    "\n",
    "visits.columns = visits.columns.str.lower()\n",
    "costs.columns = costs.columns.str.lower()\n",
    "orders.columns = orders.columns.str.lower()\n",
    "\n",
    "# Cambiamos los espacios en blanco con un \"_\" en los títulos de las columnas\n",
    "\n",
    "visits.columns = visits.columns.str.replace(' ', '_')\n",
    "costs.columns = costs.columns.str.replace(' ', '_')\n",
    "orders.columns = orders.columns.str.replace(' ', '_')"
   ]
  },
  {
   "cell_type": "code",
   "execution_count": 7,
   "metadata": {},
   "outputs": [
    {
     "name": "stdout",
     "output_type": "stream",
     "text": [
      "    device              end_ts  source_id            start_ts  \\\n",
      "0    touch 2017-12-20 17:38:00          4 2017-12-20 17:20:00   \n",
      "1  desktop 2018-02-19 17:21:00          2 2018-02-19 16:53:00   \n",
      "2    touch 2017-07-01 01:54:00          5 2017-07-01 01:54:00   \n",
      "\n",
      "                    uid  \n",
      "0  16879256277535980062  \n",
      "1    104060357244891740  \n",
      "2   7459035603376831527  \n",
      "\n",
      "<class 'pandas.core.frame.DataFrame'>\n",
      "RangeIndex: 359400 entries, 0 to 359399\n",
      "Data columns (total 5 columns):\n",
      " #   Column     Non-Null Count   Dtype         \n",
      "---  ------     --------------   -----         \n",
      " 0   device     359400 non-null  object        \n",
      " 1   end_ts     359400 non-null  datetime64[ns]\n",
      " 2   source_id  359400 non-null  int64         \n",
      " 3   start_ts   359400 non-null  datetime64[ns]\n",
      " 4   uid        359400 non-null  uint64        \n",
      "dtypes: datetime64[ns](2), int64(1), object(1), uint64(1)\n",
      "memory usage: 13.7+ MB\n",
      "None\n",
      "\n",
      "   source_id         dt  costs\n",
      "0          1 2017-06-01  75.20\n",
      "1          1 2017-06-02  62.25\n",
      "2          1 2017-06-03  36.53\n",
      "\n",
      "<class 'pandas.core.frame.DataFrame'>\n",
      "RangeIndex: 2542 entries, 0 to 2541\n",
      "Data columns (total 3 columns):\n",
      " #   Column     Non-Null Count  Dtype         \n",
      "---  ------     --------------  -----         \n",
      " 0   source_id  2542 non-null   int64         \n",
      " 1   dt         2542 non-null   datetime64[ns]\n",
      " 2   costs      2542 non-null   float64       \n",
      "dtypes: datetime64[ns](1), float64(1), int64(1)\n",
      "memory usage: 59.7 KB\n",
      "None\n",
      "\n",
      "               buy_ts  revenue                   uid\n",
      "0 2017-06-01 00:10:00    17.00  10329302124590727494\n",
      "1 2017-06-01 00:25:00     0.55  11627257723692907447\n",
      "2 2017-06-01 00:27:00     0.37  17903680561304213844\n",
      "\n",
      "<class 'pandas.core.frame.DataFrame'>\n",
      "RangeIndex: 50415 entries, 0 to 50414\n",
      "Data columns (total 3 columns):\n",
      " #   Column   Non-Null Count  Dtype         \n",
      "---  ------   --------------  -----         \n",
      " 0   buy_ts   50415 non-null  datetime64[ns]\n",
      " 1   revenue  50415 non-null  float64       \n",
      " 2   uid      50415 non-null  uint64        \n",
      "dtypes: datetime64[ns](1), float64(1), uint64(1)\n",
      "memory usage: 1.2 MB\n",
      "None\n"
     ]
    }
   ],
   "source": [
    "# Asegúrate de que cada columna contenga el tipo de datos correcto.\n",
    "\n",
    "visits['start_ts'] = pd.to_datetime(visits['start_ts'])\n",
    "visits['end_ts'] = pd.to_datetime(visits['end_ts'])\n",
    "costs['dt'] = pd.to_datetime(costs['dt'])\n",
    "orders['buy_ts'] = pd.to_datetime(orders['buy_ts'])\n",
    "\n",
    "print(visits.head(3))\n",
    "print()\n",
    "print(visits.info())\n",
    "print()\n",
    "print(costs.head(3))\n",
    "print()\n",
    "print(costs.info())\n",
    "print()\n",
    "print(orders.head(3))\n",
    "print()\n",
    "print(orders.info())"
   ]
  },
  {
   "cell_type": "code",
   "execution_count": 8,
   "metadata": {},
   "outputs": [
    {
     "name": "stdout",
     "output_type": "stream",
     "text": [
      "    device              end_ts  source_id            start_ts  \\\n",
      "0    touch 2017-12-20 17:38:00          4 2017-12-20 17:20:00   \n",
      "1  desktop 2018-02-19 17:21:00          2 2018-02-19 16:53:00   \n",
      "2    touch 2017-07-01 01:54:00          5 2017-07-01 01:54:00   \n",
      "3  desktop 2018-05-20 11:23:00          9 2018-05-20 10:59:00   \n",
      "4  desktop 2017-12-27 14:06:00          3 2017-12-27 14:06:00   \n",
      "\n",
      "                    uid              buy_ts  revenue  \n",
      "0  16879256277535980062                 NaT      NaN  \n",
      "1    104060357244891740                 NaT      NaN  \n",
      "2   7459035603376831527                 NaT      NaN  \n",
      "3  16174680259334210214 2018-03-09 20:25:00     2.33  \n",
      "4   9969694820036681168                 NaT      NaN  \n",
      "\n",
      "<class 'pandas.core.frame.DataFrame'>\n",
      "Int64Index: 1023813 entries, 0 to 1023812\n",
      "Data columns (total 7 columns):\n",
      " #   Column     Non-Null Count    Dtype         \n",
      "---  ------     --------------    -----         \n",
      " 0   device     1023813 non-null  object        \n",
      " 1   end_ts     1023813 non-null  datetime64[ns]\n",
      " 2   source_id  1023813 non-null  int64         \n",
      " 3   start_ts   1023813 non-null  datetime64[ns]\n",
      " 4   uid        1023813 non-null  uint64        \n",
      " 5   buy_ts     761807 non-null   datetime64[ns]\n",
      " 6   revenue    761807 non-null   float64       \n",
      "dtypes: datetime64[ns](3), float64(1), int64(1), object(1), uint64(1)\n",
      "memory usage: 62.5+ MB\n",
      "None\n"
     ]
    }
   ],
   "source": [
    "# Unir los df visits y orders con merge en la columna uid\n",
    "\n",
    "visits_orders = pd.merge(visits, orders, how='left', on='uid')\n",
    "print(visits_orders.head(5))\n",
    "print()\n",
    "print(visits_orders.info())\n"
   ]
  },
  {
   "cell_type": "markdown",
   "metadata": {},
   "source": [
    "<div class=\"alert alert-block alert-success\">\n",
    "<b>Comentario del revisor (2da Iteracion)</b> <a class=“tocSkip”></a>\n",
    "\n",
    "Buen trabajo con el preprocesamiento de tus datos y exploración inicial!\n",
    "</div>"
   ]
  },
  {
   "cell_type": "markdown",
   "metadata": {},
   "source": [
    "## Paso 2. Haz informes y calcula métricas"
   ]
  },
  {
   "cell_type": "markdown",
   "metadata": {},
   "source": [
    "### Visitas:"
   ]
  },
  {
   "cell_type": "code",
   "execution_count": 11,
   "metadata": {},
   "outputs": [
    {
     "name": "stdout",
     "output_type": "stream",
     "text": [
      "    device              end_ts  source_id            start_ts  \\\n",
      "0    touch 2017-12-20 17:38:00          4 2017-12-20 17:20:00   \n",
      "1  desktop 2018-02-19 17:21:00          2 2018-02-19 16:53:00   \n",
      "2    touch 2017-07-01 01:54:00          5 2017-07-01 01:54:00   \n",
      "\n",
      "                    uid buy_ts  revenue  session_week  session_month  \\\n",
      "0  16879256277535980062    NaT      NaN            51             12   \n",
      "1    104060357244891740    NaT      NaN             8              2   \n",
      "2   7459035603376831527    NaT      NaN            26              7   \n",
      "\n",
      "  session_date  \n",
      "0   2017-12-20  \n",
      "1   2018-02-19  \n",
      "2   2017-07-01  \n"
     ]
    }
   ],
   "source": [
    "# Cuenta el total de visitas por día, semana y mes (DAU, MAU Y WAU)\n",
    "\n",
    "visits_orders['session_week']  = visits_orders['start_ts'].dt.isocalendar().week\n",
    "visits_orders['session_month'] = visits_orders['start_ts'].dt.month\n",
    "visits_orders['session_date']  = visits_orders['start_ts'].dt.date\n",
    "\n",
    "print(visits_orders.head(3))"
   ]
  },
  {
   "cell_type": "markdown",
   "metadata": {},
   "source": [
    "#### ¿Cuántas personas lo usan cada día, semana y mes?"
   ]
  },
  {
   "cell_type": "code",
   "execution_count": 13,
   "metadata": {},
   "outputs": [
    {
     "name": "stdout",
     "output_type": "stream",
     "text": [
      "DAU= uid    907.991758\n",
      "dtype: float64\n",
      "\n",
      "MAU= uid    23228.416667\n",
      "dtype: float64\n",
      "\n",
      "WAU= uid    5825.288462\n",
      "dtype: float64\n"
     ]
    }
   ],
   "source": [
    "# Agruparemos los datos por fecha/semana de la sesión y buscaremos los totales:\n",
    "\n",
    "dau_total = visits_orders.groupby('session_date').agg({'uid': 'nunique'}).mean()\n",
    "mau_total = visits_orders.groupby('session_month').agg({'uid': 'nunique'}).mean()\n",
    "wau_total = visits_orders.groupby('session_week').agg({'uid': 'nunique'}).mean()\n",
    "\n",
    "print('DAU=', dau_total)\n",
    "print()\n",
    "print('MAU=', mau_total)\n",
    "print()\n",
    "print('WAU=', wau_total)"
   ]
  },
  {
   "cell_type": "markdown",
   "metadata": {},
   "source": [
    "#### ¿Cuántas sesiones hay por día? (Un usuario puede tener más de una sesión)."
   ]
  },
  {
   "cell_type": "code",
   "execution_count": 15,
   "metadata": {},
   "outputs": [
    {
     "name": "stdout",
     "output_type": "stream",
     "text": [
      "En total tenemos un promedio de uid    2812.673077\n",
      "dtype: float64\n"
     ]
    }
   ],
   "source": [
    "total_sessions_per_day = visits_orders.groupby('session_date').agg({'uid': 'count'})\n",
    "\n",
    "# Total de sesiones por día en promedio\n",
    "average_sessions_per_day = total_sessions_per_day.mean()\n",
    "print('En total tenemos un promedio de', average_sessions_per_day)"
   ]
  },
  {
   "cell_type": "markdown",
   "metadata": {},
   "source": [
    "<div class=\"alert alert-block alert-success\">\n",
    "<b>Comentario del revisor (2da Iteracion)</b> <a class=“tocSkip”></a>\n",
    "\n",
    "Muy buen trabajo analizando la cantidad de visitantes!\n",
    "</div>"
   ]
  },
  {
   "cell_type": "markdown",
   "metadata": {},
   "source": [
    "#### ¿Cuál es la duración de cada sesión?"
   ]
  },
  {
   "cell_type": "code",
   "execution_count": 16,
   "metadata": {},
   "outputs": [
    {
     "name": "stdout",
     "output_type": "stream",
     "text": [
      "    device              end_ts  source_id            start_ts  \\\n",
      "0    touch 2017-12-20 17:38:00          4 2017-12-20 17:20:00   \n",
      "1  desktop 2018-02-19 17:21:00          2 2018-02-19 16:53:00   \n",
      "2    touch 2017-07-01 01:54:00          5 2017-07-01 01:54:00   \n",
      "\n",
      "                    uid buy_ts  revenue  session_week  session_month  \\\n",
      "0  16879256277535980062    NaT      NaN            51             12   \n",
      "1    104060357244891740    NaT      NaN             8              2   \n",
      "2   7459035603376831527    NaT      NaN            26              7   \n",
      "\n",
      "  session_date        duration  \n",
      "0   2017-12-20 0 days 00:18:00  \n",
      "1   2018-02-19 0 days 00:28:00  \n",
      "2   2017-07-01 0 days 00:00:00  \n"
     ]
    }
   ],
   "source": [
    "# Agregamos en una nueva columna llamada duration la duración de cada sesión restando end_ts menos start_ts.\n",
    "\n",
    "visits_orders['duration'] = visits_orders['end_ts'] - visits_orders['start_ts']\n",
    "print(visits_orders.head(3))"
   ]
  },
  {
   "cell_type": "code",
   "execution_count": 17,
   "metadata": {},
   "outputs": [
    {
     "name": "stdout",
     "output_type": "stream",
     "text": [
      "La duración promedio de las sesiones es de 0 days 00:17:53.040014143\n"
     ]
    }
   ],
   "source": [
    "# Encontrar la duración promedio de las sesiones (ASL)\n",
    "\n",
    "ASL = visits_orders['duration'].mean()\n",
    "print('La duración promedio de las sesiones es de', ASL)"
   ]
  },
  {
   "cell_type": "markdown",
   "metadata": {},
   "source": [
    "#### ¿Con qué frecuencia los usuarios regresan?"
   ]
  },
  {
   "cell_type": "code",
   "execution_count": 18,
   "metadata": {},
   "outputs": [
    {
     "name": "stdout",
     "output_type": "stream",
     "text": [
      "sticky_wau = uid    15.587069\n",
      "dtype: float64\n",
      "sticky_mau = uid    3.90897\n",
      "dtype: float64\n"
     ]
    }
   ],
   "source": [
    "# Calculamos el sticky factor (sticky factor = DAU/MAU)\n",
    "\n",
    "sticky_wau = (dau_total/wau_total)*100\n",
    "print('sticky_wau =', sticky_wau)\n",
    "sticky_mau = (dau_total/mau_total)*100\n",
    "print('sticky_mau =', sticky_mau)"
   ]
  },
  {
   "cell_type": "markdown",
   "metadata": {},
   "source": [
    "<div class=\"alert alert-block alert-success\">\n",
    "<b>Comentario del revisor (2da Iteracion)</b> <a class=“tocSkip”></a>\n",
    "\n",
    "Muy buen trabajo con los cálculos!\n",
    "</div>"
   ]
  },
  {
   "cell_type": "markdown",
   "metadata": {},
   "source": [
    "### Ventas"
   ]
  },
  {
   "cell_type": "markdown",
   "metadata": {},
   "source": [
    "### ¿Cuándo empieza la gente a comprar?:"
   ]
  },
  {
   "cell_type": "code",
   "execution_count": 25,
   "metadata": {},
   "outputs": [
    {
     "name": "stdout",
     "output_type": "stream",
     "text": [
      "cohort_od= uid    108294\n",
      "dtype: int64\n",
      "\n",
      "cohort_1d= uid    7894\n",
      "dtype: int64\n",
      "\n",
      "cohort_7d= uid    3511\n",
      "dtype: int64\n"
     ]
    }
   ],
   "source": [
    "first_purchase_dates = visits_orders.groupby('uid')['buy_ts'].min()\n",
    "first_purchase_dates.name = 'first_purchase_datetime'\n",
    "visits_orders = visits_orders.join(first_purchase_dates, on='uid', rsuffix='_first')\n",
    "\n",
    "# En el DataFrame purchases, creamos una columna purchase_day para almacenar los meses recuperados de la columna purchase_datetime.\n",
    "# visits_orders['purchase_day'] = visits_orders['buy_ts'].astype('datetime64[d]')\n",
    "visits_orders['purchase_day'] = visits_orders['buy_ts'].dt.to_period('D')\n",
    "visits_orders['first_purchase_day'] = visits_orders['first_purchase_datetime'].dt.to_period('D')\n",
    "\n",
    "# Análisis de KPI, encontrar el tiempo que transcurre entre el registro y la conversión, cuantos ocurren el mismo día (categoría Conversion 0d). cuantos al día siguiente (conversion 1d).\n",
    "# cohort_stats = purchases.groupby('first_purchase_month').agg({'uid': 'count'})\n",
    "\n",
    "cohort_od = visits_orders[visits_orders['purchase_day'] == visits_orders['first_purchase_day']].agg({'uid': 'count'})\n",
    "cohort_1d = visits_orders[visits_orders['purchase_day'] == visits_orders['first_purchase_day'] + pd.Timedelta(days=1)].agg({'uid': 'count'})\n",
    "cohort_7d = visits_orders[visits_orders['purchase_day'] == visits_orders['first_purchase_day'] + pd.Timedelta(days=7)].agg({'uid': 'count'})\n",
    "\n",
    "print('cohort_od=', cohort_od)\n",
    "print()\n",
    "print('cohort_1d=', cohort_1d)\n",
    "print()\n",
    "print('cohort_7d=', cohort_7d)"
   ]
  },
  {
   "cell_type": "markdown",
   "metadata": {},
   "source": [
    "#### Podemos ver en el análisis de las cohortes anterior que el grupo más grande personas compra el mismo día de su registro."
   ]
  },
  {
   "cell_type": "code",
   "execution_count": 26,
   "metadata": {},
   "outputs": [
    {
     "name": "stdout",
     "output_type": "stream",
     "text": [
      "    device              end_ts  source_id            start_ts  \\\n",
      "0    touch 2017-12-20 17:38:00          4 2017-12-20 17:20:00   \n",
      "1  desktop 2018-02-19 17:21:00          2 2018-02-19 16:53:00   \n",
      "2    touch 2017-07-01 01:54:00          5 2017-07-01 01:54:00   \n",
      "\n",
      "                    uid buy_ts  revenue  session_week  session_month  \\\n",
      "0  16879256277535980062    NaT      NaN            51             12   \n",
      "1    104060357244891740    NaT      NaN             8              2   \n",
      "2   7459035603376831527    NaT      NaN            26              7   \n",
      "\n",
      "  session_date        duration first_purchase_datetime purchase_day  \\\n",
      "0   2017-12-20 0 days 00:18:00                     NaT          NaT   \n",
      "1   2018-02-19 0 days 00:28:00                     NaT          NaT   \n",
      "2   2017-07-01 0 days 00:00:00                     NaT          NaT   \n",
      "\n",
      "  first_purchase_day first_purchase_datetime_first  \\\n",
      "0                NaT                           NaT   \n",
      "1                NaT                           NaT   \n",
      "2                NaT                           NaT   \n",
      "\n",
      "  first_purchase_datetime_first  \n",
      "0                           NaT  \n",
      "1                           NaT  \n",
      "2                           NaT  \n"
     ]
    }
   ],
   "source": [
    "print(visits_orders.head(3))"
   ]
  },
  {
   "cell_type": "markdown",
   "metadata": {},
   "source": [
    "### ¿Qué canal de marketing es más efectivo?"
   ]
  },
  {
   "cell_type": "code",
   "execution_count": 27,
   "metadata": {},
   "outputs": [
    {
     "name": "stdout",
     "output_type": "stream",
     "text": [
      "           first_purchase_date\n",
      "source_id                     \n",
      "1                       248662\n",
      "2                       238297\n",
      "3                        46766\n",
      "4                        62683\n",
      "5                       151824\n",
      "7                            1\n",
      "9                         9547\n",
      "10                        4027\n"
     ]
    },
    {
     "data": {
      "image/png": "[encoded data removed]",
      "text/plain": [
       "<Figure size 640x480 with 1 Axes>"
      ]
     },
     "metadata": {},
     "output_type": "display_data"
    }
   ],
   "source": [
    "import pandas as pd\n",
    "import matplotlib.pyplot as plt\n",
    "import seaborn as sns\n",
    "\n",
    "# Creamos la columna 'purchase_date' con la compra del periodo por mes\n",
    "\n",
    "visits_orders['purchase_date'] = visits_orders['buy_ts'].dt.to_period('M')\n",
    "visits_orders['first_purchase_date'] = visits_orders['first_purchase_datetime'].dt.to_period('M')\n",
    "cohort_stats = visits_orders.groupby('source_id').agg({'first_purchase_date': 'value_counts'})\n",
    "\n",
    "# Sumamos el total de la columna first_purchase_date y lo agrupamos por la columna source_id\n",
    "\n",
    "cohort_stats = cohort_stats.groupby('source_id').sum()\n",
    "print(cohort_stats)\n",
    "\n",
    "# Gráficamos cohort_stats x=source_id y=first_purchase_date\n",
    "\n",
    "cohort_stats.plot(kind='bar')\n",
    "plt.show()"
   ]
  },
  {
   "cell_type": "markdown",
   "metadata": {},
   "source": [
    "#### En el gráfico anterior podemos ver que el canal de marketing es más efectivo es el y seguido del 2 y luego el 5, los menos efectivos son el 7, 10 y 9."
   ]
  },
  {
   "cell_type": "markdown",
   "metadata": {},
   "source": [
    "### ¿Cuántos pedidos hacen durante un período de tiempo dado?"
   ]
  },
  {
   "cell_type": "code",
   "execution_count": 28,
   "metadata": {},
   "outputs": [
    {
     "name": "stdout",
     "output_type": "stream",
     "text": [
      "purchase_date        2017-06  2017-07  2017-08  2017-09  2017-10  2017-11  \\\n",
      "first_purchase_date                                                         \n",
      "2017-06              25839.0  25677.0  25127.0  38866.0  44356.0  32355.0   \n",
      "2017-07                  NaN   8692.0   4006.0   8680.0   4384.0   2656.0   \n",
      "2017-08                  NaN      NaN   6713.0   5353.0   5268.0   4705.0   \n",
      "2017-09                  NaN      NaN      NaN  12257.0   5096.0   4513.0   \n",
      "2017-10                  NaN      NaN      NaN      NaN  14519.0   3645.0   \n",
      "2017-11                  NaN      NaN      NaN      NaN      NaN  20250.0   \n",
      "2017-12                  NaN      NaN      NaN      NaN      NaN      NaN   \n",
      "2018-01                  NaN      NaN      NaN      NaN      NaN      NaN   \n",
      "2018-02                  NaN      NaN      NaN      NaN      NaN      NaN   \n",
      "2018-03                  NaN      NaN      NaN      NaN      NaN      NaN   \n",
      "2018-04                  NaN      NaN      NaN      NaN      NaN      NaN   \n",
      "2018-05                  NaN      NaN      NaN      NaN      NaN      NaN   \n",
      "2018-06                  NaN      NaN      NaN      NaN      NaN      NaN   \n",
      "\n",
      "purchase_date        2017-12  2018-01  2018-02  2018-03  2018-04  2018-05  \\\n",
      "first_purchase_date                                                         \n",
      "2017-06              48849.0  30756.0  41971.0  28912.0  16641.0   9514.0   \n",
      "2017-07               6872.0   4071.0   1825.0   1643.0   1076.0   4125.0   \n",
      "2017-08               6555.0   3866.0   2976.0   4794.0   3187.0   1961.0   \n",
      "2017-09               7011.0   2673.0   4295.0   5064.0   2409.0   2131.0   \n",
      "2017-10               1844.0   1470.0   1889.0   1563.0   2030.0   3093.0   \n",
      "2017-11              12264.0   5359.0   9642.0   4811.0   1113.0   3976.0   \n",
      "2017-12              17919.0   7840.0   7952.0   5552.0   2701.0   2908.0   \n",
      "2018-01                  NaN  13679.0   8337.0   5162.0   2127.0   3088.0   \n",
      "2018-02                  NaN      NaN  12415.0   5550.0   2334.0   2219.0   \n",
      "2018-03                  NaN      NaN      NaN  16975.0  13176.0  17765.0   \n",
      "2018-04                  NaN      NaN      NaN      NaN   6455.0   4885.0   \n",
      "2018-05                  NaN      NaN      NaN      NaN      NaN   7579.0   \n",
      "2018-06                  NaN      NaN      NaN      NaN      NaN      NaN   \n",
      "\n",
      "purchase_date        2018-06  \n",
      "first_purchase_date           \n",
      "2017-06                  NaN  \n",
      "2017-07                  NaN  \n",
      "2017-08                  NaN  \n",
      "2017-09                  NaN  \n",
      "2017-10                  NaN  \n",
      "2017-11                  NaN  \n",
      "2017-12                  NaN  \n",
      "2018-01                  NaN  \n",
      "2018-02                  NaN  \n",
      "2018-03                  NaN  \n",
      "2018-04                  NaN  \n",
      "2018-05                  NaN  \n",
      "2018-06                  1.0  \n"
     ]
    }
   ],
   "source": [
    "# Compila una tabla dinámica para mostrar los cambios en las compras totales realizadas\n",
    "\n",
    "purchase_pivot = visits_orders.pivot_table(\n",
    "    index='first_purchase_date',\n",
    "    columns='purchase_date',\n",
    "    values='uid',\n",
    "    aggfunc='count',\n",
    ")\n",
    "print(purchase_pivot)"
   ]
  },
  {
   "cell_type": "code",
   "execution_count": 29,
   "metadata": {},
   "outputs": [
    {
     "name": "stdout",
     "output_type": "stream",
     "text": [
      "purchase_date        2017-06  2017-07  2017-08  2017-09  2017-10  2017-11  \\\n",
      "first_purchase_date                                                         \n",
      "2017-06                  1.0      0.5     0.33     0.34     0.28     0.17   \n",
      "2017-07                  NaN      1.0     0.32     0.41     0.17     0.09   \n",
      "2017-08                  NaN      NaN     1.00     0.44     0.30     0.21   \n",
      "2017-09                  NaN      NaN      NaN     1.00     0.29     0.21   \n",
      "2017-10                  NaN      NaN      NaN      NaN     1.00     0.20   \n",
      "2017-11                  NaN      NaN      NaN      NaN      NaN     1.00   \n",
      "2017-12                  NaN      NaN      NaN      NaN      NaN      NaN   \n",
      "2018-01                  NaN      NaN      NaN      NaN      NaN      NaN   \n",
      "2018-02                  NaN      NaN      NaN      NaN      NaN      NaN   \n",
      "2018-03                  NaN      NaN      NaN      NaN      NaN      NaN   \n",
      "2018-04                  NaN      NaN      NaN      NaN      NaN      NaN   \n",
      "2018-05                  NaN      NaN      NaN      NaN      NaN      NaN   \n",
      "2018-06                  NaN      NaN      NaN      NaN      NaN      NaN   \n",
      "\n",
      "purchase_date        2017-12  2018-01  2018-02  2018-03  2018-04  2018-05  \\\n",
      "first_purchase_date                                                         \n",
      "2017-06                 0.20     0.11     0.13     0.08     0.05     0.03   \n",
      "2017-07                 0.19     0.10     0.04     0.04     0.02     0.09   \n",
      "2017-08                 0.23     0.12     0.08     0.12     0.07     0.04   \n",
      "2017-09                 0.24     0.08     0.12     0.12     0.06     0.05   \n",
      "2017-10                 0.09     0.07     0.08     0.06     0.08     0.10   \n",
      "2017-11                 0.38     0.14     0.20     0.09     0.02     0.07   \n",
      "2017-12                 1.00     0.30     0.24     0.14     0.06     0.06   \n",
      "2018-01                  NaN     1.00     0.38     0.19     0.07     0.10   \n",
      "2018-02                  NaN      NaN     1.00     0.31     0.11     0.10   \n",
      "2018-03                  NaN      NaN      NaN     1.00     0.44     0.37   \n",
      "2018-04                  NaN      NaN      NaN      NaN     1.00     0.43   \n",
      "2018-05                  NaN      NaN      NaN      NaN      NaN     1.00   \n",
      "2018-06                  NaN      NaN      NaN      NaN      NaN      NaN   \n",
      "\n",
      "purchase_date        2018-06  \n",
      "first_purchase_date           \n",
      "2017-06                  NaN  \n",
      "2017-07                  NaN  \n",
      "2017-08                  NaN  \n",
      "2017-09                  NaN  \n",
      "2017-10                  NaN  \n",
      "2017-11                  NaN  \n",
      "2017-12                  NaN  \n",
      "2018-01                  NaN  \n",
      "2018-02                  NaN  \n",
      "2018-03                  NaN  \n",
      "2018-04                  NaN  \n",
      "2018-05                  NaN  \n",
      "2018-06                  1.0  \n"
     ]
    }
   ],
   "source": [
    "# Agrupamos por la fecha de compras mensuales y el mes de la compra\n",
    "\n",
    "purchases_grouped_by_cohorts = purchases_grouped_by_cohorts = visits_orders.groupby(['first_purchase_date', 'purchase_date']).agg({'uid': 'count'})\n",
    "\n",
    "orders_per_month = purchases_grouped_by_cohorts.groupby(level=0).cumsum()\n",
    "\n",
    "# Agregamos la columna purchases_per_month al DataFrame purchases_grouped_by_cohorts. En esta columna, calcula el promedio de ordenes por mes.\n",
    "orders_per_month = orders_per_month.reset_index()\n",
    "purchases_grouped_by_cohorts['purchases_per_month'] = (purchases_grouped_by_cohorts['uid'] / orders_per_month.set_index(['first_purchase_date', 'purchase_date'])['uid']).round(2)\n",
    "\n",
    "# Cambios en el número promedio de ordenes por mes en cada cohorte\n",
    "mean_orders_pivot = purchases_grouped_by_cohorts.pivot_table(\n",
    "    index='first_purchase_date',\n",
    "    columns='purchase_date',\n",
    "    values='purchases_per_month',\n",
    "    aggfunc='sum',\n",
    ")\n",
    "print(mean_orders_pivot)"
   ]
  },
  {
   "cell_type": "markdown",
   "metadata": {},
   "source": [
    "#### Revisando las mediciones anteriores podemos ver cuantos pedidos se hacen por mes así como el cambio en estos en cada periodo. Vemos que el primer cohorte de junio de 2017 así como el de noviembre del mismo año y el de marzo de 2018 han sido los más importantes"
   ]
  },
  {
   "cell_type": "markdown",
   "metadata": {},
   "source": [
    "### ¿Cuál es el tamaño promedio de compra?"
   ]
  },
  {
   "cell_type": "code",
   "execution_count": 30,
   "metadata": {},
   "outputs": [
    {
     "name": "stdout",
     "output_type": "stream",
     "text": [
      "                          revenue\n",
      "first_purchase_date              \n",
      "2017-06              2.717652e+06\n",
      "2017-07              5.155539e+05\n",
      "2017-08              3.757915e+05\n",
      "2017-09              1.680143e+06\n",
      "2017-10              1.994744e+05\n",
      "2017-11              3.892719e+05\n",
      "2017-12              2.925601e+05\n",
      "2018-01              1.813623e+05\n",
      "2018-02              8.937845e+04\n",
      "2018-03              4.011142e+05\n",
      "2018-04              8.430222e+04\n",
      "2018-05              3.560077e+04\n",
      "2018-06              3.420000e+00\n"
     ]
    }
   ],
   "source": [
    "# Total de ventas dividido entre el total de revenue\n",
    "\n",
    "revenue_per_month = visits_orders.groupby('first_purchase_date').agg({'revenue': 'sum'})\n",
    "print(revenue_per_month)"
   ]
  },
  {
   "cell_type": "markdown",
   "metadata": {},
   "source": [
    "#### En la tabla anterior podemos ve el promedio de la compra mensual, viendo que el mes de febrero y abril de 2018 son los más altos, mientras que septiembre y octubre de 2017 y enero de 2018 lo más bajos.Tendríamos que revisar si esto se debe a factores externos o a temporalidad, que en el caso de enero se podría entender."
   ]
  },
  {
   "cell_type": "markdown",
   "metadata": {},
   "source": [
    "### ¿Cuánto dinero traen? Cálcula el LTV)"
   ]
  },
  {
   "cell_type": "code",
   "execution_count": 31,
   "metadata": {},
   "outputs": [
    {
     "name": "stdout",
     "output_type": "stream",
     "text": [
      "  first_purchase_date  cohort_size\n",
      "0             2017-06         2023\n",
      "1             2017-07         1923\n",
      "2             2017-08         1370\n",
      "3             2017-09         2581\n",
      "4             2017-10         4340\n"
     ]
    }
   ],
   "source": [
    "# Calcula el número de nuevos clientes para cada fecha (o rango de fechas, en este caso, para cada mes).\n",
    "\n",
    "cohort_sizes = visits_orders.groupby('first_purchase_date').agg({'uid': 'nunique'}).reset_index()\n",
    "cohort_sizes.columns = ['first_purchase_date', 'cohort_size']\n",
    "\n",
    "print(cohort_sizes.head(5))"
   ]
  },
  {
   "cell_type": "code",
   "execution_count": 32,
   "metadata": {},
   "outputs": [
    {
     "name": "stdout",
     "output_type": "stream",
     "text": [
      "  first_purchase_date purchase_date    revenue\n",
      "0             2017-06       2017-06  148121.29\n",
      "1             2017-06       2017-07  155869.55\n",
      "2             2017-06       2017-08  114898.83\n",
      "3             2017-06       2017-09  374481.76\n",
      "4             2017-06       2017-10  351833.14\n"
     ]
    }
   ],
   "source": [
    "\n",
    "# Agrupamos la tabla de pedidos por mes de la primera compra y mes de la compra y totalizar los ingresos.\n",
    "\n",
    "cohorts = visits_orders.groupby(['first_purchase_date', 'purchase_date']).agg({'revenue': 'sum'}).reset_index()\n",
    "\n",
    "print(cohorts.head(5))"
   ]
  },
  {
   "cell_type": "code",
   "execution_count": 33,
   "metadata": {},
   "outputs": [
    {
     "name": "stdout",
     "output_type": "stream",
     "text": [
      "  first_purchase_date  cohort_size purchase_date    revenue\n",
      "0             2017-06         2023       2017-06  148121.29\n",
      "1             2017-06         2023       2017-07  155869.55\n",
      "2             2017-06         2023       2017-08  114898.83\n",
      "3             2017-06         2023       2017-09  374481.76\n",
      "4             2017-06         2023       2017-10  351833.14\n"
     ]
    }
   ],
   "source": [
    "report = pd.merge(cohort_sizes, cohorts, on='first_purchase_date')\n",
    "print(report.head(5))"
   ]
  },
  {
   "cell_type": "code",
   "execution_count": 34,
   "metadata": {},
   "outputs": [
    {
     "data": {
      "text/html": [
       "<div>\n",
       "<style scoped>\n",
       "    .dataframe tbody tr th:only-of-type {\n",
       "        vertical-align: middle;\n",
       "    }\n",
       "\n",
       "    .dataframe tbody tr th {\n",
       "        vertical-align: top;\n",
       "    }\n",
       "\n",
       "    .dataframe thead th {\n",
       "        text-align: right;\n",
       "    }\n",
       "</style>\n",
       "<table border=\"1\" class=\"dataframe\">\n",
       "  <thead>\n",
       "    <tr style=\"text-align: right;\">\n",
       "      <th></th>\n",
       "      <th>first_purchase_date</th>\n",
       "      <th>cohort_size</th>\n",
       "      <th>purchase_date</th>\n",
       "      <th>revenue</th>\n",
       "      <th>gp</th>\n",
       "      <th>age</th>\n",
       "    </tr>\n",
       "  </thead>\n",
       "  <tbody>\n",
       "    <tr>\n",
       "      <th>0</th>\n",
       "      <td>2017-06</td>\n",
       "      <td>2023</td>\n",
       "      <td>2017-06</td>\n",
       "      <td>148121.29</td>\n",
       "      <td>74060.645</td>\n",
       "      <td>0</td>\n",
       "    </tr>\n",
       "    <tr>\n",
       "      <th>1</th>\n",
       "      <td>2017-06</td>\n",
       "      <td>2023</td>\n",
       "      <td>2017-07</td>\n",
       "      <td>155869.55</td>\n",
       "      <td>77934.775</td>\n",
       "      <td>1</td>\n",
       "    </tr>\n",
       "    <tr>\n",
       "      <th>2</th>\n",
       "      <td>2017-06</td>\n",
       "      <td>2023</td>\n",
       "      <td>2017-08</td>\n",
       "      <td>114898.83</td>\n",
       "      <td>57449.415</td>\n",
       "      <td>2</td>\n",
       "    </tr>\n",
       "    <tr>\n",
       "      <th>3</th>\n",
       "      <td>2017-06</td>\n",
       "      <td>2023</td>\n",
       "      <td>2017-09</td>\n",
       "      <td>374481.76</td>\n",
       "      <td>187240.880</td>\n",
       "      <td>3</td>\n",
       "    </tr>\n",
       "    <tr>\n",
       "      <th>4</th>\n",
       "      <td>2017-06</td>\n",
       "      <td>2023</td>\n",
       "      <td>2017-10</td>\n",
       "      <td>351833.14</td>\n",
       "      <td>175916.570</td>\n",
       "      <td>4</td>\n",
       "    </tr>\n",
       "  </tbody>\n",
       "</table>\n",
       "</div>"
      ],
      "text/plain": [
       "  first_purchase_date  cohort_size purchase_date    revenue          gp  age\n",
       "0             2017-06         2023       2017-06  148121.29   74060.645    0\n",
       "1             2017-06         2023       2017-07  155869.55   77934.775    1\n",
       "2             2017-06         2023       2017-08  114898.83   57449.415    2\n",
       "3             2017-06         2023       2017-09  374481.76  187240.880    3\n",
       "4             2017-06         2023       2017-10  351833.14  175916.570    4"
      ]
     },
     "execution_count": 34,
     "metadata": {},
     "output_type": "execute_result"
    }
   ],
   "source": [
    "# Consideraremos un margin_rate de 0.5\n",
    "\n",
    "margin_rate = 0.5\n",
    "\n",
    "report['gp'] = report['revenue'] * margin_rate\n",
    "report['age'] = (report['purchase_date'].dt.year - report['first_purchase_date'].dt.year) * 12 + (report['purchase_date'].dt.month - report['first_purchase_date'].dt.month)\n",
    "report['age'] = report['age'].round().astype('int')\n",
    "\n",
    "report.head()"
   ]
  },
  {
   "cell_type": "code",
   "execution_count": 35,
   "metadata": {},
   "outputs": [
    {
     "data": {
      "text/html": [
       "<div>\n",
       "<style scoped>\n",
       "    .dataframe tbody tr th:only-of-type {\n",
       "        vertical-align: middle;\n",
       "    }\n",
       "\n",
       "    .dataframe tbody tr th {\n",
       "        vertical-align: top;\n",
       "    }\n",
       "\n",
       "    .dataframe thead th {\n",
       "        text-align: right;\n",
       "    }\n",
       "</style>\n",
       "<table border=\"1\" class=\"dataframe\">\n",
       "  <thead>\n",
       "    <tr style=\"text-align: right;\">\n",
       "      <th>age</th>\n",
       "      <th>0</th>\n",
       "      <th>1</th>\n",
       "      <th>2</th>\n",
       "      <th>3</th>\n",
       "      <th>4</th>\n",
       "      <th>5</th>\n",
       "      <th>6</th>\n",
       "      <th>7</th>\n",
       "      <th>8</th>\n",
       "      <th>9</th>\n",
       "      <th>10</th>\n",
       "      <th>11</th>\n",
       "    </tr>\n",
       "    <tr>\n",
       "      <th>first_purchase_date</th>\n",
       "      <th></th>\n",
       "      <th></th>\n",
       "      <th></th>\n",
       "      <th></th>\n",
       "      <th></th>\n",
       "      <th></th>\n",
       "      <th></th>\n",
       "      <th></th>\n",
       "      <th></th>\n",
       "      <th></th>\n",
       "      <th></th>\n",
       "      <th></th>\n",
       "    </tr>\n",
       "  </thead>\n",
       "  <tbody>\n",
       "    <tr>\n",
       "      <th>2017-06</th>\n",
       "      <td>37.0</td>\n",
       "      <td>39.0</td>\n",
       "      <td>28.0</td>\n",
       "      <td>93.0</td>\n",
       "      <td>87.0</td>\n",
       "      <td>55.0</td>\n",
       "      <td>89.0</td>\n",
       "      <td>51.0</td>\n",
       "      <td>62.0</td>\n",
       "      <td>53.0</td>\n",
       "      <td>55.0</td>\n",
       "      <td>24.0</td>\n",
       "    </tr>\n",
       "    <tr>\n",
       "      <th>2017-07</th>\n",
       "      <td>26.0</td>\n",
       "      <td>13.0</td>\n",
       "      <td>39.0</td>\n",
       "      <td>14.0</td>\n",
       "      <td>5.0</td>\n",
       "      <td>6.0</td>\n",
       "      <td>3.0</td>\n",
       "      <td>4.0</td>\n",
       "      <td>7.0</td>\n",
       "      <td>10.0</td>\n",
       "      <td>7.0</td>\n",
       "      <td></td>\n",
       "    </tr>\n",
       "    <tr>\n",
       "      <th>2017-08</th>\n",
       "      <td>17.0</td>\n",
       "      <td>15.0</td>\n",
       "      <td>13.0</td>\n",
       "      <td>16.0</td>\n",
       "      <td>25.0</td>\n",
       "      <td>12.0</td>\n",
       "      <td>8.0</td>\n",
       "      <td>18.0</td>\n",
       "      <td>8.0</td>\n",
       "      <td>6.0</td>\n",
       "      <td></td>\n",
       "      <td></td>\n",
       "    </tr>\n",
       "    <tr>\n",
       "      <th>2017-09</th>\n",
       "      <td>33.0</td>\n",
       "      <td>30.0</td>\n",
       "      <td>11.0</td>\n",
       "      <td>159.0</td>\n",
       "      <td>19.0</td>\n",
       "      <td>24.0</td>\n",
       "      <td>32.0</td>\n",
       "      <td>11.0</td>\n",
       "      <td>6.0</td>\n",
       "      <td></td>\n",
       "      <td></td>\n",
       "      <td></td>\n",
       "    </tr>\n",
       "    <tr>\n",
       "      <th>2017-10</th>\n",
       "      <td>10.0</td>\n",
       "      <td>4.0</td>\n",
       "      <td>1.0</td>\n",
       "      <td>2.0</td>\n",
       "      <td>1.0</td>\n",
       "      <td>1.0</td>\n",
       "      <td>1.0</td>\n",
       "      <td>1.0</td>\n",
       "      <td></td>\n",
       "      <td></td>\n",
       "      <td></td>\n",
       "      <td></td>\n",
       "    </tr>\n",
       "    <tr>\n",
       "      <th>2017-11</th>\n",
       "      <td>14.0</td>\n",
       "      <td>10.0</td>\n",
       "      <td>5.0</td>\n",
       "      <td>10.0</td>\n",
       "      <td>4.0</td>\n",
       "      <td>1.0</td>\n",
       "      <td>3.0</td>\n",
       "      <td></td>\n",
       "      <td></td>\n",
       "      <td></td>\n",
       "      <td></td>\n",
       "      <td></td>\n",
       "    </tr>\n",
       "    <tr>\n",
       "      <th>2017-12</th>\n",
       "      <td>9.0</td>\n",
       "      <td>4.0</td>\n",
       "      <td>8.0</td>\n",
       "      <td>7.0</td>\n",
       "      <td>3.0</td>\n",
       "      <td>2.0</td>\n",
       "      <td></td>\n",
       "      <td></td>\n",
       "      <td></td>\n",
       "      <td></td>\n",
       "      <td></td>\n",
       "      <td></td>\n",
       "    </tr>\n",
       "    <tr>\n",
       "      <th>2018-01</th>\n",
       "      <td>9.0</td>\n",
       "      <td>6.0</td>\n",
       "      <td>8.0</td>\n",
       "      <td>2.0</td>\n",
       "      <td>1.0</td>\n",
       "      <td></td>\n",
       "      <td></td>\n",
       "      <td></td>\n",
       "      <td></td>\n",
       "      <td></td>\n",
       "      <td></td>\n",
       "      <td></td>\n",
       "    </tr>\n",
       "    <tr>\n",
       "      <th>2018-02</th>\n",
       "      <td>6.0</td>\n",
       "      <td>3.0</td>\n",
       "      <td>1.0</td>\n",
       "      <td>1.0</td>\n",
       "      <td></td>\n",
       "      <td></td>\n",
       "      <td></td>\n",
       "      <td></td>\n",
       "      <td></td>\n",
       "      <td></td>\n",
       "      <td></td>\n",
       "      <td></td>\n",
       "    </tr>\n",
       "    <tr>\n",
       "      <th>2018-03</th>\n",
       "      <td>25.0</td>\n",
       "      <td>20.0</td>\n",
       "      <td>11.0</td>\n",
       "      <td></td>\n",
       "      <td></td>\n",
       "      <td></td>\n",
       "      <td></td>\n",
       "      <td></td>\n",
       "      <td></td>\n",
       "      <td></td>\n",
       "      <td></td>\n",
       "      <td></td>\n",
       "    </tr>\n",
       "    <tr>\n",
       "      <th>2018-04</th>\n",
       "      <td>9.0</td>\n",
       "      <td>10.0</td>\n",
       "      <td></td>\n",
       "      <td></td>\n",
       "      <td></td>\n",
       "      <td></td>\n",
       "      <td></td>\n",
       "      <td></td>\n",
       "      <td></td>\n",
       "      <td></td>\n",
       "      <td></td>\n",
       "      <td></td>\n",
       "    </tr>\n",
       "    <tr>\n",
       "      <th>2018-05</th>\n",
       "      <td>6.0</td>\n",
       "      <td></td>\n",
       "      <td></td>\n",
       "      <td></td>\n",
       "      <td></td>\n",
       "      <td></td>\n",
       "      <td></td>\n",
       "      <td></td>\n",
       "      <td></td>\n",
       "      <td></td>\n",
       "      <td></td>\n",
       "      <td></td>\n",
       "    </tr>\n",
       "    <tr>\n",
       "      <th>2018-06</th>\n",
       "      <td>2.0</td>\n",
       "      <td></td>\n",
       "      <td></td>\n",
       "      <td></td>\n",
       "      <td></td>\n",
       "      <td></td>\n",
       "      <td></td>\n",
       "      <td></td>\n",
       "      <td></td>\n",
       "      <td></td>\n",
       "      <td></td>\n",
       "      <td></td>\n",
       "    </tr>\n",
       "  </tbody>\n",
       "</table>\n",
       "</div>"
      ],
      "text/plain": [
       "age                    0     1     2      3     4     5     6     7     8   \\\n",
       "first_purchase_date                                                          \n",
       "2017-06              37.0  39.0  28.0   93.0  87.0  55.0  89.0  51.0  62.0   \n",
       "2017-07              26.0  13.0  39.0   14.0   5.0   6.0   3.0   4.0   7.0   \n",
       "2017-08              17.0  15.0  13.0   16.0  25.0  12.0   8.0  18.0   8.0   \n",
       "2017-09              33.0  30.0  11.0  159.0  19.0  24.0  32.0  11.0   6.0   \n",
       "2017-10              10.0   4.0   1.0    2.0   1.0   1.0   1.0   1.0         \n",
       "2017-11              14.0  10.0   5.0   10.0   4.0   1.0   3.0               \n",
       "2017-12               9.0   4.0   8.0    7.0   3.0   2.0                     \n",
       "2018-01               9.0   6.0   8.0    2.0   1.0                           \n",
       "2018-02               6.0   3.0   1.0    1.0                                 \n",
       "2018-03              25.0  20.0  11.0                                        \n",
       "2018-04               9.0  10.0                                              \n",
       "2018-05               6.0                                                    \n",
       "2018-06               2.0                                                    \n",
       "\n",
       "age                    9     10    11  \n",
       "first_purchase_date                    \n",
       "2017-06              53.0  55.0  24.0  \n",
       "2017-07              10.0   7.0        \n",
       "2017-08               6.0              \n",
       "2017-09                                \n",
       "2017-10                                \n",
       "2017-11                                \n",
       "2017-12                                \n",
       "2018-01                                \n",
       "2018-02                                \n",
       "2018-03                                \n",
       "2018-04                                \n",
       "2018-05                                \n",
       "2018-06                                "
      ]
     },
     "execution_count": 35,
     "metadata": {},
     "output_type": "execute_result"
    }
   ],
   "source": [
    "report['ltv'] = report['gp'] / report['cohort_size']\n",
    "\n",
    "output = report.pivot_table(\n",
    "    index='first_purchase_date',\n",
    "    columns='age',\n",
    "    values='ltv',\n",
    "    aggfunc='mean').round()\n",
    "\n",
    "output.fillna('')"
   ]
  },
  {
   "cell_type": "markdown",
   "metadata": {},
   "source": [
    "#### En la tabla anterior podemos ver que la primer cohorte sigue siendo la más importante, además en la de septiembre vemos un gran crecimiento en el cuarto mes, podríamos analizar que paso en esa cohorte para ver si es posible repetir ese comportamiento."
   ]
  },
  {
   "cell_type": "markdown",
   "metadata": {},
   "source": [
    "<div class=\"alert alert-block alert-success\">\n",
    "<b>Comentario del revisor (2da Iteracion)</b> <a class=“tocSkip”></a>\n",
    "\n",
    "Muy buen análisis del LTV! Fuiste bastante detallado con los cálculos y las conclusiones\n",
    "</div>"
   ]
  },
  {
   "cell_type": "markdown",
   "metadata": {},
   "source": [
    "## Marketing:"
   ]
  },
  {
   "cell_type": "markdown",
   "metadata": {},
   "source": [
    "### ¿Cuánto dinero se gastó? (Total/por fuente de adquisición/a lo largo del tiempo)"
   ]
  },
  {
   "cell_type": "code",
   "execution_count": 36,
   "metadata": {},
   "outputs": [
    {
     "name": "stdout",
     "output_type": "stream",
     "text": [
      "   source_id         dt  costs    month\n",
      "0          1 2017-06-01  75.20  2017-06\n",
      "1          1 2017-06-02  62.25  2017-06\n",
      "2          1 2017-06-03  36.53  2017-06\n"
     ]
    }
   ],
   "source": [
    "costs['month'] = costs['dt'].dt.strftime('%Y-%m')\n",
    "print(costs.head(3))"
   ]
  },
  {
   "cell_type": "code",
   "execution_count": 37,
   "metadata": {},
   "outputs": [
    {
     "name": "stdout",
     "output_type": "stream",
     "text": [
      "    month  source_id     costs\n",
      "0       1          1   2186.18\n",
      "1       1          2   4157.74\n",
      "2       1          3  14808.78\n",
      "3       1          4   5832.79\n",
      "4       1          5   5371.52\n",
      "..    ...        ...       ...\n",
      "79     12          3  16219.52\n",
      "80     12          4   7680.47\n",
      "81     12          5   5872.52\n",
      "82     12          9    657.98\n",
      "83     12         10    645.86\n",
      "\n",
      "[84 rows x 3 columns]\n"
     ]
    },
    {
     "data": {
      "image/png": "[encoded data removed]",
      "text/plain": [
       "<Figure size 1800x500 with 2 Axes>"
      ]
     },
     "metadata": {},
     "output_type": "display_data"
    }
   ],
   "source": [
    "# Agrupar la tabla costs por fecha 'dt' y source_id sumando el monto de 'costs'\n",
    "\n",
    "cost_per_source = costs.groupby(['dt', 'source_id']).agg({'costs': 'sum'})\n",
    "\n",
    "# Crea una columna con el numero del mes de la columna 'dt'\n",
    "\n",
    "cost_per_source['month'] = cost_per_source.index.get_level_values('dt').month\n",
    "\n",
    "# Suma el total de 'costs' por 'month' y por 'source id'\n",
    "\n",
    "cost_per_source = cost_per_source.groupby(['month', 'source_id']).agg({'costs': 'sum'})\n",
    "cost_per_source = cost_per_source.reset_index()\n",
    "\n",
    "print(cost_per_source)\n",
    "\n",
    "# Haz una gráfica para el df costs_per_source\n",
    "# Tamaño del gráfico 15 x 10\n",
    "\n",
    "cost_per_source.plot(kind='scatter', x='month', y='costs', c='source_id', figsize=(18, 5), colormap= 'Dark2')\n",
    "plt.show()"
   ]
  },
  {
   "cell_type": "markdown",
   "metadata": {},
   "source": [
    "#### En la tabla y gráfico anterior podemos ver los gastos por source_id"
   ]
  },
  {
   "cell_type": "markdown",
   "metadata": {},
   "source": [
    "### Cálcula el CAC y LTV por una cohort"
   ]
  },
  {
   "cell_type": "code",
   "execution_count": 39,
   "metadata": {},
   "outputs": [
    {
     "name": "stdout",
     "output_type": "stream",
     "text": [
      "CAC de cohort 2017-06 = 8.905091448344043\n",
      "LTV de cohort 2017-06 = 673.0\n"
     ]
    }
   ],
   "source": [
    "# Encontremos el LTV de la primera cohorte sumando el valor de cada mes para poder sacar su CAC\n",
    "\n",
    "ltv_201706 = output.loc['2017-06'].sum()\n",
    "\n",
    "cohort_201706 = report[report['first_purchase_date'] == '2017-06']\n",
    "\n",
    "# Calculamos los costos para el mes de la cohorte\n",
    "\n",
    "costs_201706 = costs[costs['month'] == '2017-06']['costs'].sum()\n",
    "\n",
    "n_buyers_201706 = cohort_201706['cohort_size'][0]\n",
    "\n",
    "cac_201706 = costs_201706 / n_buyers_201706\n",
    "\n",
    "ltv_201706 = output.loc['2017-06'].sum()\n",
    "\n",
    "print('CAC de cohort 2017-06 =', cac_201706)\n",
    "print('LTV de cohort 2017-06 =', ltv_201706)"
   ]
  },
  {
   "cell_type": "markdown",
   "metadata": {},
   "source": [
    "#### Adquirir cada cliente le costó a la empresa un promedio de 8.90, mientras que cada cliente generó 673. Por lo tanto, la inversión en la adquisición de clientes valió la pena generó grandes beneficios, al menos este primer mes."
   ]
  },
  {
   "cell_type": "markdown",
   "metadata": {},
   "source": [
    "### ¿Cuál fue el costo de adquisición de clientes de cada una de las fuentes?"
   ]
  },
  {
   "cell_type": "code",
   "execution_count": 40,
   "metadata": {},
   "outputs": [
    {
     "name": "stdout",
     "output_type": "stream",
     "text": [
      "source_id\n",
      "1      20833.27\n",
      "2      42806.04\n",
      "3     141321.63\n",
      "4      61073.60\n",
      "5      51757.10\n",
      "9       5517.49\n",
      "10      5822.49\n",
      "Name: costs, dtype: float64\n"
     ]
    },
    {
     "data": {
      "image/png": "[encoded data removed]",
      "text/plain": [
       "<Figure size 1000x500 with 1 Axes>"
      ]
     },
     "metadata": {},
     "output_type": "display_data"
    }
   ],
   "source": [
    "cac_per_source_id = costs.groupby('source_id')['costs'].sum()\n",
    "print(cac_per_source_id)\n",
    "\n",
    "grafica_cost_per_source = cac_per_source_id.plot(kind='bar', figsize=(10, 5))\n",
    "plt.show()"
   ]
  },
  {
   "cell_type": "markdown",
   "metadata": {},
   "source": [
    "### ¿Cuán rentables eran las inversiones? (ROMI)"
   ]
  },
  {
   "cell_type": "code",
   "execution_count": 43,
   "metadata": {},
   "outputs": [
    {
     "name": "stdout",
     "output_type": "stream",
     "text": [
      "  first_purchase_date  cohort_size purchase_date    revenue         gp  age  \\\n",
      "0             2017-06         2023       2017-06  148121.29  74060.645    0   \n",
      "1             2017-06         2023       2017-07  155869.55  77934.775    1   \n",
      "2             2017-06         2023       2017-08  114898.83  57449.415    2   \n",
      "\n",
      "         ltv  \n",
      "0  36.609315  \n",
      "1  38.524357  \n",
      "2  28.398129  \n",
      "<class 'pandas.core.frame.DataFrame'>\n",
      "Int64Index: 79 entries, 0 to 78\n",
      "Data columns (total 7 columns):\n",
      " #   Column               Non-Null Count  Dtype    \n",
      "---  ------               --------------  -----    \n",
      " 0   first_purchase_date  79 non-null     period[M]\n",
      " 1   cohort_size          79 non-null     int64    \n",
      " 2   purchase_date        79 non-null     period[M]\n",
      " 3   revenue              79 non-null     float64  \n",
      " 4   gp                   79 non-null     float64  \n",
      " 5   age                  79 non-null     int64    \n",
      " 6   ltv                  79 non-null     float64  \n",
      "dtypes: float64(3), int64(2), period[M](2)\n",
      "memory usage: 4.9 KB\n",
      "None\n",
      "   source_id         dt  costs    month\n",
      "0          1 2017-06-01  75.20  2017-06\n",
      "1          1 2017-06-02  62.25  2017-06\n",
      "2          1 2017-06-03  36.53  2017-06\n",
      "<class 'pandas.core.frame.DataFrame'>\n",
      "RangeIndex: 2542 entries, 0 to 2541\n",
      "Data columns (total 4 columns):\n",
      " #   Column     Non-Null Count  Dtype         \n",
      "---  ------     --------------  -----         \n",
      " 0   source_id  2542 non-null   int64         \n",
      " 1   dt         2542 non-null   datetime64[ns]\n",
      " 2   costs      2542 non-null   float64       \n",
      " 3   month      2542 non-null   object        \n",
      "dtypes: datetime64[ns](1), float64(1), int64(1), object(1)\n",
      "memory usage: 79.6+ KB\n",
      "None\n"
     ]
    }
   ],
   "source": [
    "print(report.head(3))\n",
    "print(report.info())\n",
    "print(costs.head(3))\n",
    "print(costs.info())"
   ]
  },
  {
   "cell_type": "code",
   "execution_count": 44,
   "metadata": {},
   "outputs": [
    {
     "name": "stdout",
     "output_type": "stream",
     "text": [
      "month\n",
      "2017-06    18015.00\n",
      "2017-07    18240.59\n",
      "2017-08    14790.54\n",
      "2017-09    24368.91\n",
      "2017-10    36322.88\n",
      "2017-11    37907.88\n",
      "2017-12    38315.35\n",
      "2018-01    33518.52\n",
      "2018-02    32723.03\n",
      "2018-03    30415.27\n",
      "2018-04    22289.38\n",
      "2018-05    22224.27\n",
      "Name: costs, dtype: float64\n"
     ]
    }
   ],
   "source": [
    "# Agrupamons en un nuevo df 'costs_per_month' la suma de los costos (columna 'costs') por mes (columna 'df')\n",
    "\n",
    "costs_per_month = costs.groupby('month')['costs'].sum()\n",
    "\n",
    "# Indicamos el nombre de las columnas month y costs\n",
    "\n",
    "print(costs_per_month)"
   ]
  },
  {
   "cell_type": "code",
   "execution_count": 45,
   "metadata": {},
   "outputs": [
    {
     "name": "stdout",
     "output_type": "stream",
     "text": [
      "month\n",
      "2017-06    18015.00\n",
      "2017-07    18240.59\n",
      "2017-08    14790.54\n",
      "2017-09    24368.91\n",
      "2017-10    36322.88\n",
      "Name: costs, dtype: float64\n"
     ]
    }
   ],
   "source": [
    "# Nombramos columnas en el df costs_per_month como 'month' y 'costs'\n",
    "\n",
    "costs_per_month.columns = ['month', 'costs']\n",
    "\n",
    "print(costs_per_month.head())"
   ]
  },
  {
   "cell_type": "code",
   "execution_count": 47,
   "metadata": {},
   "outputs": [
    {
     "name": "stdout",
     "output_type": "stream",
     "text": [
      "month\n",
      "2017-06    18015.00\n",
      "2017-07    18240.59\n",
      "2017-08    14790.54\n",
      "2017-09    24368.91\n",
      "2017-10    36322.88\n",
      "Freq: M, Name: costs, dtype: float64\n"
     ]
    }
   ],
   "source": [
    "# Cambiamos el tipo de dato de la columna month a period[M](2)\n",
    "\n",
    "costs_per_month.index = pd.PeriodIndex(costs_per_month.index, freq='M')\n",
    "print(costs_per_month.head(5))"
   ]
  },
  {
   "cell_type": "code",
   "execution_count": 48,
   "metadata": {},
   "outputs": [
    {
     "name": "stdout",
     "output_type": "stream",
     "text": [
      "  first_purchase_date  cohort_size purchase_date    revenue         gp  age  \\\n",
      "0             2017-06         2023       2017-06  148121.29  74060.645    0   \n",
      "1             2017-06         2023       2017-07  155869.55  77934.775    1   \n",
      "2             2017-07         1923       2017-07   98117.69  49058.845    0   \n",
      "3             2017-06         2023       2017-08  114898.83  57449.415    2   \n",
      "4             2017-07         1923       2017-08   49721.69  24860.845    1   \n",
      "\n",
      "         ltv     costs  \n",
      "0  36.609315  18015.00  \n",
      "1  38.524357  18240.59  \n",
      "2  25.511620  18240.59  \n",
      "3  28.398129  14790.54  \n",
      "4  12.928157  14790.54  \n"
     ]
    }
   ],
   "source": [
    "# Hacemos .merge con df report[purchase_date] y costs_per_month[month]\n",
    "\n",
    "report = pd.merge(report, costs_per_month, left_on='purchase_date', right_on='month')\n",
    "print(report.head(5))"
   ]
  },
  {
   "cell_type": "code",
   "execution_count": 49,
   "metadata": {},
   "outputs": [
    {
     "name": "stdout",
     "output_type": "stream",
     "text": [
      "  first_purchase_date  cohort_size purchase_date    revenue         gp  age  \\\n",
      "0             2017-06         2023       2017-06  148121.29  74060.645    0   \n",
      "1             2017-06         2023       2017-07  155869.55  77934.775    1   \n",
      "2             2017-07         1923       2017-07   98117.69  49058.845    0   \n",
      "3             2017-06         2023       2017-08  114898.83  57449.415    2   \n",
      "4             2017-07         1923       2017-08   49721.69  24860.845    1   \n",
      "\n",
      "         ltv     costs       cac  \n",
      "0  36.609315  18015.00  8.905091  \n",
      "1  38.524357  18240.59  9.016604  \n",
      "2  25.511620  18240.59  9.485486  \n",
      "3  28.398129  14790.54  7.311191  \n",
      "4  12.928157  14790.54  7.691388  \n"
     ]
    }
   ],
   "source": [
    "# Agregar  una columna 'CAC' con el cálculo = costs / cohort_size\n",
    "\n",
    "report['cac'] = report['costs'] / report['cohort_size']\n",
    "print(report.head(5))"
   ]
  },
  {
   "cell_type": "code",
   "execution_count": 50,
   "metadata": {},
   "outputs": [
    {
     "data": {
      "text/html": [
       "<div>\n",
       "<style scoped>\n",
       "    .dataframe tbody tr th:only-of-type {\n",
       "        vertical-align: middle;\n",
       "    }\n",
       "\n",
       "    .dataframe tbody tr th {\n",
       "        vertical-align: top;\n",
       "    }\n",
       "\n",
       "    .dataframe thead th {\n",
       "        text-align: right;\n",
       "    }\n",
       "</style>\n",
       "<table border=\"1\" class=\"dataframe\">\n",
       "  <thead>\n",
       "    <tr style=\"text-align: right;\">\n",
       "      <th>age</th>\n",
       "      <th>0</th>\n",
       "      <th>1</th>\n",
       "      <th>2</th>\n",
       "      <th>3</th>\n",
       "      <th>4</th>\n",
       "      <th>5</th>\n",
       "      <th>6</th>\n",
       "      <th>7</th>\n",
       "      <th>8</th>\n",
       "      <th>9</th>\n",
       "      <th>10</th>\n",
       "      <th>11</th>\n",
       "    </tr>\n",
       "    <tr>\n",
       "      <th>first_purchase_date</th>\n",
       "      <th></th>\n",
       "      <th></th>\n",
       "      <th></th>\n",
       "      <th></th>\n",
       "      <th></th>\n",
       "      <th></th>\n",
       "      <th></th>\n",
       "      <th></th>\n",
       "      <th></th>\n",
       "      <th></th>\n",
       "      <th></th>\n",
       "      <th></th>\n",
       "    </tr>\n",
       "  </thead>\n",
       "  <tbody>\n",
       "    <tr>\n",
       "      <th>2017-06</th>\n",
       "      <td>4.1111</td>\n",
       "      <td>8.3837</td>\n",
       "      <td>12.2679</td>\n",
       "      <td>19.9515</td>\n",
       "      <td>24.7946</td>\n",
       "      <td>27.7093</td>\n",
       "      <td>32.4164</td>\n",
       "      <td>35.4877</td>\n",
       "      <td>39.3042</td>\n",
       "      <td>42.8131</td>\n",
       "      <td>47.8298</td>\n",
       "      <td>50.0347</td>\n",
       "    </tr>\n",
       "    <tr>\n",
       "      <th>2017-07</th>\n",
       "      <td>2.6895</td>\n",
       "      <td>4.3704</td>\n",
       "      <td>7.4538</td>\n",
       "      <td>8.1866</td>\n",
       "      <td>8.4516</td>\n",
       "      <td>8.7652</td>\n",
       "      <td>8.9449</td>\n",
       "      <td>9.1849</td>\n",
       "      <td>9.6510</td>\n",
       "      <td>10.5026</td>\n",
       "      <td>11.0877</td>\n",
       "      <td>NaN</td>\n",
       "    </tr>\n",
       "    <tr>\n",
       "      <th>2017-08</th>\n",
       "      <td>1.5869</td>\n",
       "      <td>2.4425</td>\n",
       "      <td>2.9317</td>\n",
       "      <td>3.4924</td>\n",
       "      <td>4.3706</td>\n",
       "      <td>4.8446</td>\n",
       "      <td>5.1899</td>\n",
       "      <td>6.0127</td>\n",
       "      <td>6.5054</td>\n",
       "      <td>6.8522</td>\n",
       "      <td>NaN</td>\n",
       "      <td>NaN</td>\n",
       "    </tr>\n",
       "    <tr>\n",
       "      <th>2017-09</th>\n",
       "      <td>3.5297</td>\n",
       "      <td>5.6774</td>\n",
       "      <td>6.4493</td>\n",
       "      <td>17.1373</td>\n",
       "      <td>18.5917</td>\n",
       "      <td>20.4912</td>\n",
       "      <td>23.2244</td>\n",
       "      <td>24.5136</td>\n",
       "      <td>25.1659</td>\n",
       "      <td>NaN</td>\n",
       "      <td>NaN</td>\n",
       "      <td>NaN</td>\n",
       "    </tr>\n",
       "    <tr>\n",
       "      <th>2017-10</th>\n",
       "      <td>1.2508</td>\n",
       "      <td>1.7482</td>\n",
       "      <td>1.9177</td>\n",
       "      <td>2.1364</td>\n",
       "      <td>2.3064</td>\n",
       "      <td>2.4683</td>\n",
       "      <td>2.6915</td>\n",
       "      <td>2.9688</td>\n",
       "      <td>NaN</td>\n",
       "      <td>NaN</td>\n",
       "      <td>NaN</td>\n",
       "      <td>NaN</td>\n",
       "    </tr>\n",
       "    <tr>\n",
       "      <th>2017-11</th>\n",
       "      <td>1.5587</td>\n",
       "      <td>2.6693</td>\n",
       "      <td>3.2895</td>\n",
       "      <td>4.5627</td>\n",
       "      <td>5.0452</td>\n",
       "      <td>5.1459</td>\n",
       "      <td>5.7590</td>\n",
       "      <td>NaN</td>\n",
       "      <td>NaN</td>\n",
       "      <td>NaN</td>\n",
       "      <td>NaN</td>\n",
       "      <td>NaN</td>\n",
       "    </tr>\n",
       "    <tr>\n",
       "      <th>2017-12</th>\n",
       "      <td>0.9907</td>\n",
       "      <td>1.5441</td>\n",
       "      <td>2.6523</td>\n",
       "      <td>3.6776</td>\n",
       "      <td>4.2016</td>\n",
       "      <td>4.6805</td>\n",
       "      <td>NaN</td>\n",
       "      <td>NaN</td>\n",
       "      <td>NaN</td>\n",
       "      <td>NaN</td>\n",
       "      <td>NaN</td>\n",
       "      <td>NaN</td>\n",
       "    </tr>\n",
       "    <tr>\n",
       "      <th>2018-01</th>\n",
       "      <td>0.9515</td>\n",
       "      <td>1.5839</td>\n",
       "      <td>2.4619</td>\n",
       "      <td>2.7846</td>\n",
       "      <td>2.9735</td>\n",
       "      <td>NaN</td>\n",
       "      <td>NaN</td>\n",
       "      <td>NaN</td>\n",
       "      <td>NaN</td>\n",
       "      <td>NaN</td>\n",
       "      <td>NaN</td>\n",
       "      <td>NaN</td>\n",
       "    </tr>\n",
       "    <tr>\n",
       "      <th>2018-02</th>\n",
       "      <td>0.7155</td>\n",
       "      <td>1.1321</td>\n",
       "      <td>1.3566</td>\n",
       "      <td>1.5186</td>\n",
       "      <td>NaN</td>\n",
       "      <td>NaN</td>\n",
       "      <td>NaN</td>\n",
       "      <td>NaN</td>\n",
       "      <td>NaN</td>\n",
       "      <td>NaN</td>\n",
       "      <td>NaN</td>\n",
       "      <td>NaN</td>\n",
       "    </tr>\n",
       "    <tr>\n",
       "      <th>2018-03</th>\n",
       "      <td>2.9064</td>\n",
       "      <td>6.1156</td>\n",
       "      <td>7.9437</td>\n",
       "      <td>NaN</td>\n",
       "      <td>NaN</td>\n",
       "      <td>NaN</td>\n",
       "      <td>NaN</td>\n",
       "      <td>NaN</td>\n",
       "      <td>NaN</td>\n",
       "      <td>NaN</td>\n",
       "      <td>NaN</td>\n",
       "      <td>NaN</td>\n",
       "    </tr>\n",
       "    <tr>\n",
       "      <th>2018-04</th>\n",
       "      <td>0.8918</td>\n",
       "      <td>1.8940</td>\n",
       "      <td>NaN</td>\n",
       "      <td>NaN</td>\n",
       "      <td>NaN</td>\n",
       "      <td>NaN</td>\n",
       "      <td>NaN</td>\n",
       "      <td>NaN</td>\n",
       "      <td>NaN</td>\n",
       "      <td>NaN</td>\n",
       "      <td>NaN</td>\n",
       "      <td>NaN</td>\n",
       "    </tr>\n",
       "    <tr>\n",
       "      <th>2018-05</th>\n",
       "      <td>0.8009</td>\n",
       "      <td>NaN</td>\n",
       "      <td>NaN</td>\n",
       "      <td>NaN</td>\n",
       "      <td>NaN</td>\n",
       "      <td>NaN</td>\n",
       "      <td>NaN</td>\n",
       "      <td>NaN</td>\n",
       "      <td>NaN</td>\n",
       "      <td>NaN</td>\n",
       "      <td>NaN</td>\n",
       "      <td>NaN</td>\n",
       "    </tr>\n",
       "  </tbody>\n",
       "</table>\n",
       "</div>"
      ],
      "text/plain": [
       "age                      0       1        2        3        4        5   \\\n",
       "first_purchase_date                                                       \n",
       "2017-06              4.1111  8.3837  12.2679  19.9515  24.7946  27.7093   \n",
       "2017-07              2.6895  4.3704   7.4538   8.1866   8.4516   8.7652   \n",
       "2017-08              1.5869  2.4425   2.9317   3.4924   4.3706   4.8446   \n",
       "2017-09              3.5297  5.6774   6.4493  17.1373  18.5917  20.4912   \n",
       "2017-10              1.2508  1.7482   1.9177   2.1364   2.3064   2.4683   \n",
       "2017-11              1.5587  2.6693   3.2895   4.5627   5.0452   5.1459   \n",
       "2017-12              0.9907  1.5441   2.6523   3.6776   4.2016   4.6805   \n",
       "2018-01              0.9515  1.5839   2.4619   2.7846   2.9735      NaN   \n",
       "2018-02              0.7155  1.1321   1.3566   1.5186      NaN      NaN   \n",
       "2018-03              2.9064  6.1156   7.9437      NaN      NaN      NaN   \n",
       "2018-04              0.8918  1.8940      NaN      NaN      NaN      NaN   \n",
       "2018-05              0.8009     NaN      NaN      NaN      NaN      NaN   \n",
       "\n",
       "age                       6        7        8        9        10       11  \n",
       "first_purchase_date                                                        \n",
       "2017-06              32.4164  35.4877  39.3042  42.8131  47.8298  50.0347  \n",
       "2017-07               8.9449   9.1849   9.6510  10.5026  11.0877      NaN  \n",
       "2017-08               5.1899   6.0127   6.5054   6.8522      NaN      NaN  \n",
       "2017-09              23.2244  24.5136  25.1659      NaN      NaN      NaN  \n",
       "2017-10               2.6915   2.9688      NaN      NaN      NaN      NaN  \n",
       "2017-11               5.7590      NaN      NaN      NaN      NaN      NaN  \n",
       "2017-12                  NaN      NaN      NaN      NaN      NaN      NaN  \n",
       "2018-01                  NaN      NaN      NaN      NaN      NaN      NaN  \n",
       "2018-02                  NaN      NaN      NaN      NaN      NaN      NaN  \n",
       "2018-03                  NaN      NaN      NaN      NaN      NaN      NaN  \n",
       "2018-04                  NaN      NaN      NaN      NaN      NaN      NaN  \n",
       "2018-05                  NaN      NaN      NaN      NaN      NaN      NaN  "
      ]
     },
     "execution_count": 50,
     "metadata": {},
     "output_type": "execute_result"
    }
   ],
   "source": [
    "report['romi'] = report['ltv'] / report['cac']\n",
    "output = report.pivot_table(\n",
    "    index='first_purchase_date',\n",
    "    columns='age',\n",
    "    values='romi',\n",
    "    aggfunc='mean')\n",
    "\n",
    "output.cumsum(axis=1).round(4)"
   ]
  },
  {
   "cell_type": "markdown",
   "metadata": {},
   "source": [
    "#### Vemos que en general las inversiones son muy rentables, la empresa parece estar sana financieramente."
   ]
  },
  {
   "cell_type": "markdown",
   "metadata": {},
   "source": [
    "<div class=\"alert alert-block alert-success\">\n",
    "<b>Comentario del revisor (2da Iteracion)</b> <a class=“tocSkip”></a>\n",
    "\n",
    "Perfecto! Excelente trabajo con los cálculos y visualizaciones de esta sección\n",
    "</div>"
   ]
  },
  {
   "cell_type": "markdown",
   "metadata": {},
   "source": [
    "# Paso 3. Escribe una conclusión: aconseja a los expertos de marketing cuánto dinero invertir y dónde"
   ]
  },
  {
   "cell_type": "markdown",
   "metadata": {},
   "source": [
    "### ¿Qué fuentes/plataformas recomendarías? Fundamenta tu selección: ¿en qué métricas te enfocaste? ¿Por qué? ¿Qué conclusiones sacaste después de encontrar los valores métricos?\n",
    "\n",
    "#### Después de revisar los datos observamos que el canal que más éxito tiene es el 3 por mucho, seguido del 4 y 5, mientras que los que menos atracción tienen son el 9 y 10 por lo que la empresa se puede enfocar en invertir en los principales para no descuidarlos y hacerlos crecer. Además vemos que la empresa ha tenido un crecimiento sostenido en sus cohortes, siendo el primero el más importante. También vemos que el de septiembre de 2017 tuvo un crecimiento muy importante por lo que podríamos analizar que paso ahí para tratar de tomarlo como ejemplo para buscar el crecimiento en los demás."
   ]
  },
  {
   "cell_type": "markdown",
   "metadata": {},
   "source": [
    "<div class=\"alert alert-block alert-info\">\n",
    "<b>Comentario general (2da Iteracion)</b> <a class=“tocSkip”></a>\n",
    "\n",
    "Muy bien hecho! De manera general puedo decirte que presentaste un proyecto muy completo, revisaste minusiosamente cada punto de interés para este caso de análisis lo cual demuestra tu capacidad análitica y sobre todo en cómo te apoyas en datos para poder generar las conclusiones acertadas. \n",
    "    \n",
    "Te felicito por como redactaste la parte final, parte de un análsis es ayudar a la toma de decisiones basadas en datos. No cabe duda que vas por un muy buen camino para convertirte en una muy buen data Analyst.\n",
    "    \n",
    "Saludos!\n",
    "</div>"
   ]
  }
 ],
 "metadata": {
  "ExecuteTimeLog": [
   {
    "duration": 0,
    "start_time": "2025-01-19T21:27:49.060Z"
   },
   {
    "duration": 3,
    "start_time": "2025-01-19T21:27:52.289Z"
   },
   {
    "duration": 4,
    "start_time": "2025-01-19T21:28:40.482Z"
   },
   {
    "duration": 832,
    "start_time": "2025-01-23T19:51:09.443Z"
   },
   {
    "duration": 59,
    "start_time": "2025-01-23T20:00:00.632Z"
   },
   {
    "duration": 79,
    "start_time": "2025-01-23T20:00:21.198Z"
   },
   {
    "duration": 303,
    "start_time": "2025-01-24T15:12:00.582Z"
   },
   {
    "duration": 364,
    "start_time": "2025-01-24T15:13:44.245Z"
   },
   {
    "duration": 379,
    "start_time": "2025-01-24T15:14:03.717Z"
   },
   {
    "duration": 437,
    "start_time": "2025-01-24T15:15:45.438Z"
   },
   {
    "duration": 5,
    "start_time": "2025-01-24T15:16:30.494Z"
   },
   {
    "duration": 6,
    "start_time": "2025-01-24T15:16:35.791Z"
   },
   {
    "duration": 147,
    "start_time": "2025-01-24T15:16:42.396Z"
   },
   {
    "duration": 154,
    "start_time": "2025-01-24T15:17:02.352Z"
   },
   {
    "duration": 2,
    "start_time": "2025-01-24T15:18:14.525Z"
   },
   {
    "duration": 2,
    "start_time": "2025-01-24T15:18:17.477Z"
   },
   {
    "duration": 249,
    "start_time": "2025-01-24T15:22:33.417Z"
   },
   {
    "duration": 341,
    "start_time": "2025-01-24T15:23:19.954Z"
   },
   {
    "duration": 330,
    "start_time": "2025-01-24T15:23:24.891Z"
   },
   {
    "duration": 3,
    "start_time": "2025-01-24T15:24:33.511Z"
   },
   {
    "duration": 57,
    "start_time": "2025-01-24T15:42:24.072Z"
   },
   {
    "duration": 12,
    "start_time": "2025-01-24T15:43:44.353Z"
   },
   {
    "duration": 5,
    "start_time": "2025-01-24T15:44:08.813Z"
   },
   {
    "duration": 12,
    "start_time": "2025-01-24T15:45:12.776Z"
   },
   {
    "duration": 3,
    "start_time": "2025-01-24T15:47:23.524Z"
   },
   {
    "duration": 2,
    "start_time": "2025-01-24T15:47:26.870Z"
   },
   {
    "duration": 293,
    "start_time": "2025-01-24T15:47:50.315Z"
   },
   {
    "duration": 4,
    "start_time": "2025-01-24T15:49:00.233Z"
   },
   {
    "duration": 5,
    "start_time": "2025-01-24T15:49:46.459Z"
   },
   {
    "duration": 280,
    "start_time": "2025-01-24T15:49:51.957Z"
   },
   {
    "duration": 288,
    "start_time": "2025-01-24T15:50:26.505Z"
   },
   {
    "duration": 8,
    "start_time": "2025-01-24T15:51:56.574Z"
   },
   {
    "duration": 2481,
    "start_time": "2025-01-24T15:54:04.822Z"
   },
   {
    "duration": 55,
    "start_time": "2025-01-24T15:55:30.669Z"
   },
   {
    "duration": 59,
    "start_time": "2025-01-24T15:55:48.539Z"
   },
   {
    "duration": 18,
    "start_time": "2025-01-24T15:56:39.989Z"
   },
   {
    "duration": 84,
    "start_time": "2025-01-24T16:00:23.561Z"
   },
   {
    "duration": 38,
    "start_time": "2025-01-24T16:00:32.586Z"
   },
   {
    "duration": 7,
    "start_time": "2025-01-24T16:00:43.492Z"
   },
   {
    "duration": 12,
    "start_time": "2025-01-24T16:00:51.352Z"
   },
   {
    "duration": 24,
    "start_time": "2025-01-24T16:01:04.106Z"
   },
   {
    "duration": 12,
    "start_time": "2025-01-24T16:04:51.142Z"
   },
   {
    "duration": 192,
    "start_time": "2025-01-24T16:05:00.541Z"
   },
   {
    "duration": 7,
    "start_time": "2025-01-24T16:05:51.372Z"
   },
   {
    "duration": 7,
    "start_time": "2025-01-24T16:05:52.675Z"
   },
   {
    "duration": 122,
    "start_time": "2025-01-24T16:06:28.323Z"
   },
   {
    "duration": 2,
    "start_time": "2025-01-24T16:06:45.870Z"
   },
   {
    "duration": 11,
    "start_time": "2025-01-24T16:06:59.939Z"
   },
   {
    "duration": 20,
    "start_time": "2025-01-24T16:07:13.209Z"
   },
   {
    "duration": 5,
    "start_time": "2025-01-24T16:07:21.960Z"
   },
   {
    "duration": 4,
    "start_time": "2025-01-24T16:07:38.425Z"
   },
   {
    "duration": 131,
    "start_time": "2025-01-24T16:07:53.952Z"
   },
   {
    "duration": 5,
    "start_time": "2025-01-24T16:12:47.834Z"
   },
   {
    "duration": 8,
    "start_time": "2025-01-24T16:13:32.592Z"
   },
   {
    "duration": 7,
    "start_time": "2025-01-24T16:13:44.271Z"
   },
   {
    "duration": 25,
    "start_time": "2025-01-24T16:13:54.629Z"
   }
  ],
  "kernelspec": {
   "display_name": "Python 3 (ipykernel)",
   "language": "python",
   "name": "python3"
  },
  "language_info": {
   "codemirror_mode": {
    "name": "ipython",
    "version": 3
   },
   "file_extension": ".py",
   "mimetype": "text/x-python",
   "name": "python",
   "nbconvert_exporter": "python",
   "pygments_lexer": "ipython3",
   "version": "3.9.19"
  },
  "toc": {
   "base_numbering": 1,
   "nav_menu": {},
   "number_sections": true,
   "sideBar": true,
   "skip_h1_title": true,
   "title_cell": "Table of Contents",
   "title_sidebar": "Contents",
   "toc_cell": false,
   "toc_position": {},
   "toc_section_display": true,
   "toc_window_display": false
  }
 },
 "nbformat": 4,
 "nbformat_minor": 2
}
